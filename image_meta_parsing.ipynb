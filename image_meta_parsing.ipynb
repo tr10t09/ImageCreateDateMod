{
 "cells": [
  {
   "cell_type": "code",
   "execution_count": 50,
   "metadata": {},
   "outputs": [
    {
     "name": "stdout",
     "output_type": "stream",
     "text": [
      "time.struct_time(tm_year=2020, tm_mon=6, tm_mday=11, tm_hour=19, tm_min=28, tm_sec=30, tm_wday=3, tm_yday=163, tm_isdst=-1)\n",
      "1591896510.0\n",
      "pic1.jpg (1591900110.0,)\n"
     ]
    },
    {
     "ename": "TypeError",
     "evalue": "unsupported operand type(s) for +: 'int' and 'datetime.timedelta'",
     "output_type": "error",
     "traceback": [
      "\u001b[0;31m---------------------------------------------------------------------------\u001b[0m",
      "\u001b[0;31mTypeError\u001b[0m                                 Traceback (most recent call last)",
      "\u001b[0;32m<ipython-input-50-44e205bdcd75>\u001b[0m in \u001b[0;36m<module>\u001b[0;34m\u001b[0m\n\u001b[1;32m     73\u001b[0m \u001b[0mcmp_time\u001b[0m \u001b[0;34m=\u001b[0m \u001b[0;32mlambda\u001b[0m \u001b[0mx\u001b[0m\u001b[0;34m,\u001b[0m \u001b[0my\u001b[0m\u001b[0;34m:\u001b[0m \u001b[0mx\u001b[0m \u001b[0;34m-\u001b[0m \u001b[0my\u001b[0m\u001b[0;34m\u001b[0m\u001b[0;34m\u001b[0m\u001b[0m\n\u001b[1;32m     74\u001b[0m \u001b[0mdiff\u001b[0m \u001b[0;34m=\u001b[0m \u001b[0;34m[\u001b[0m\u001b[0mcmp_time\u001b[0m\u001b[0;34m(\u001b[0m\u001b[0mdates\u001b[0m\u001b[0;34m[\u001b[0m\u001b[0mx\u001b[0m\u001b[0;34m]\u001b[0m\u001b[0;34m,\u001b[0m \u001b[0mdates\u001b[0m\u001b[0;34m[\u001b[0m\u001b[0;34m'exif'\u001b[0m\u001b[0;34m]\u001b[0m\u001b[0;34m)\u001b[0m \u001b[0;32mfor\u001b[0m \u001b[0mx\u001b[0m \u001b[0;32min\u001b[0m \u001b[0;34m(\u001b[0m\u001b[0;34m'mtime'\u001b[0m\u001b[0;34m,\u001b[0m \u001b[0;34m'ctime'\u001b[0m\u001b[0;34m)\u001b[0m\u001b[0;34m]\u001b[0m\u001b[0;34m\u001b[0m\u001b[0;34m\u001b[0m\u001b[0m\n\u001b[0;32m---> 75\u001b[0;31m \u001b[0mprint\u001b[0m\u001b[0;34m(\u001b[0m\u001b[0msum\u001b[0m\u001b[0;34m(\u001b[0m\u001b[0mdiff\u001b[0m\u001b[0;34m)\u001b[0m\u001b[0;34m)\u001b[0m\u001b[0;34m\u001b[0m\u001b[0;34m\u001b[0m\u001b[0m\n\u001b[0m\u001b[1;32m     76\u001b[0m \u001b[0;34m\u001b[0m\u001b[0m\n\u001b[1;32m     77\u001b[0m \u001b[0;32mfor\u001b[0m \u001b[0mi\u001b[0m \u001b[0;32min\u001b[0m \u001b[0mallFiles\u001b[0m\u001b[0;34m:\u001b[0m\u001b[0;34m\u001b[0m\u001b[0;34m\u001b[0m\u001b[0m\n",
      "\u001b[0;31mTypeError\u001b[0m: unsupported operand type(s) for +: 'int' and 'datetime.timedelta'"
     ]
    }
   ],
   "source": [
    "from PIL import Image\n",
    "import os\n",
    "from datetime import datetime\n",
    "\n",
    "# inspired by https://gist.github.com/ikoblik/7089165\n",
    "\n",
    "picFolder = \"/home/ethoren/workdir2020/100_prg/pyBilder\"\n",
    "\n",
    "# change to picture folder\n",
    "os.chdir(picFolder)\n",
    "\n",
    "# get all files from folder\n",
    "allFiles = os.listdir(picFolder)\n",
    "\n",
    "\n",
    "def getImgCreateDate(imgFile):\n",
    "    timeStamp = None\n",
    "    \n",
    "    img = Image.open(imgFile)\n",
    "    \n",
    "    #get metadata and extract create time \n",
    "    imgexifs = img.getexif()\n",
    "    imgCreateDate = imgexifs.get(36867)\n",
    "    #imgCreateDate = imgexifs[36867]\n",
    "    \n",
    "    # if there is a timestamp convert format\n",
    "    if (imgCreateDate):\n",
    "        timeStamp = datetime.strptime(imgCreateDate, \"%Y:%m:%d %H:%M:%S\")\n",
    "    \n",
    "    return timeStamp \n",
    "\n",
    "def getImgFileMod(imgFile):\n",
    "    \n",
    "    modDate = datetime.fromtimestamp(os.path.getmtime(imgFile)).strftime('%Y-%m-%d %H:%M:%S')\n",
    "    \n",
    "    # convert to proper datetime object\n",
    "    return datetime.strptime(modDate, '%Y-%m-%d %H:%M:%S')\n",
    "\n",
    "def getFileDates(path):\n",
    "    dates = {}\n",
    "    dates['exif'] = getImgCreateDate(path)\n",
    "    dates['mtime'] = datetime.fromtimestamp(os.path.getmtime(path))\n",
    "    dates['ctime'] = datetime.fromtimestamp(os.path.getctime(path))\n",
    "        \n",
    "    return dates\n",
    "\n",
    "\n",
    "def setFileDates(fileName, dates):\n",
    "    # pic1.jpg (1591900110.0, 1591900110.0) -> *2\n",
    "    # pic1.jpg (1591900110.0,) -> w/o *2\n",
    "    os.utime(fileName, (time.mktime(dates['exif'].utctimetuple()),)*2)\n",
    "    \n",
    "def fixFileDate(fileName):\n",
    "    dates = getFileDates(fileName)\n",
    "    if (dates['exif']):\n",
    "        cmp_time = lambda x, y: x - y > TEN_MINUTES\n",
    "        diff = [cmp_time(dates[x], dates['exif']) for x in ('mtime', 'ctime')]\n",
    "        if(sum(diff)):\n",
    "            setFileDates(fileName, dates)\n",
    "            return dates, diff\n",
    "        else:\n",
    "            return dates, None\n",
    "\n",
    "dates = getFileDates(allFiles[2])\n",
    "print(dates['exif'].timetuple())\n",
    "import time\n",
    "print(time.mktime(dates['exif'].timetuple()))\n",
    "print(allFiles[2], (time.mktime(dates['exif'].utctimetuple()),))\n",
    "# File: Pic1.jpg ImgCreateDate: 2020-06-11 19:28:30 ImgFileModDate: 2020-06-15 12:47:28\n",
    "#os.utime(allFiles[2], (time.mktime(dates['exif'].utctimetuple()),)*2)\n",
    "#os.utime(allFiles[3], (time.mktime(dates['exif'].utctimetuple()),))\n",
    "        \n",
    "cmp_time = lambda x, y: x - y\n",
    "diff = [cmp_time(dates[x], dates['exif']) for x in ('mtime', 'ctime')]\n",
    "print(sum(diff))\n",
    "    \n",
    "for i in allFiles:\n",
    "    if getImgCreateDate(i) == getImgFileMod(i):\n",
    "        print(\"Creation and Modification Dates are equal\")\n",
    "    else:\n",
    "        # use this to change timestamp\n",
    "        # print(getImgCreateDate(i) + getImgCreateDate(i) + getImgCreateDate(i)-getImgCreateDate(i))\n",
    "        #print(getImgCreateDate(i), getImgCreateDate(i))\n",
    "        print(\"File: \" + i + \" ImgCreateDate: {} ImgFileModDate: {}\".format(getImgCreateDate(i), getImgFileMod(i)))\n",
    "    \n"
   ]
  },
  {
   "cell_type": "code",
   "execution_count": null,
   "metadata": {},
   "outputs": [],
   "source": []
  }
 ],
 "metadata": {
  "kernelspec": {
   "display_name": "Python 3",
   "language": "python",
   "name": "python3"
  },
  "language_info": {
   "codemirror_mode": {
    "name": "ipython",
    "version": 3
   },
   "file_extension": ".py",
   "mimetype": "text/x-python",
   "name": "python",
   "nbconvert_exporter": "python",
   "pygments_lexer": "ipython3",
   "version": "3.8.2"
  }
 },
 "nbformat": 4,
 "nbformat_minor": 2
}
