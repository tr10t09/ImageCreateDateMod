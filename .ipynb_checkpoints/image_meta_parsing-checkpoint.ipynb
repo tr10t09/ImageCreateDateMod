{
 "cells": [
  {
   "cell_type": "code",
   "execution_count": 10,
   "metadata": {},
   "outputs": [
    {
     "name": "stdout",
     "output_type": "stream",
     "text": [
      "File: 20200611_192832.jpg ImgCreateDate: 2020-06-11 19:28:30 ImgFileModDate: 2020-06-15 12:47:28\n",
      "File: 20200611_192835.jpg ImgCreateDate: 2020-06-11 19:28:33 ImgFileModDate: 2020-06-15 12:47:28\n"
     ]
    }
   ],
   "source": [
    "from PIL import Image\n",
    "import os\n",
    "from datetime import datetime\n",
    "\n",
    "# inspired by https://gist.github.com/ikoblik/7089165\n",
    "\n",
    "picFolder = \"/home/ethoren/workdir2020/100_prg/pyBilder\"\n",
    "\n",
    "# change to picture folder\n",
    "os.chdir(picFolder)\n",
    "\n",
    "# get all files from folder\n",
    "allFiles = os.listdir(picFolder)\n",
    "\n",
    "\n",
    "def getImgCreateDate(imgFile):\n",
    "    img = Image.open(imgFile)\n",
    "    \n",
    "    #get metadata\n",
    "    imgexifs = img.getexif()\n",
    "    \n",
    "    imgCreateDate = imgexifs.get(36867)\n",
    "    #imgCreateDate = imgexifs[36867]\n",
    "    \n",
    "    # convert to proper datetime object\n",
    "    return datetime.strptime(imgCreateDate, \"%Y:%m:%d %H:%M:%S\")\n",
    "\n",
    "def getImgFileMod(imgFile):\n",
    "    \n",
    "    modDate = datetime.fromtimestamp(os.path.getmtime(imgFile)).strftime('%Y-%m-%d %H:%M:%S')\n",
    "    \n",
    "    # convert to proper datetime object\n",
    "    return datetime.strptime(modDate, '%Y-%m-%d %H:%M:%S')\n",
    "\n",
    "\n",
    "#print(getImgCreateDate(allFiles[1]))\n",
    "#print(getImgFileMod(allFiles[1]))\n",
    "\n",
    "    \n",
    "for i in allFiles:\n",
    "    if getImgCreateDate(i) == getImgFileMod(i):\n",
    "        print(\"Creation and Modification Dates are equal\")\n",
    "    else:\n",
    "        # use this to change timestamp\n",
    "        # print(getImgCreateDate(i) + getImgCreateDate(i) + getImgCreateDate(i)-getImgCreateDate(i))\n",
    "        #print(getImgCreateDate(i), getImgCreateDate(i))\n",
    "        print(\"File: \" + i + \" ImgCreateDate: {} ImgFileModDate: {}\".format(getImgCreateDate(i), getImgFileMod(i)))\n",
    "    \n"
   ]
  },
  {
   "cell_type": "code",
   "execution_count": null,
   "metadata": {},
   "outputs": [],
   "source": []
  },
  {
   "cell_type": "code",
   "execution_count": null,
   "metadata": {},
   "outputs": [],
   "source": []
  }
 ],
 "metadata": {
  "kernelspec": {
   "display_name": "Python 3",
   "language": "python",
   "name": "python3"
  },
  "language_info": {
   "codemirror_mode": {
    "name": "ipython",
    "version": 2
   },
   "file_extension": ".py",
   "mimetype": "text/x-python",
   "name": "python",
   "nbconvert_exporter": "python",
   "pygments_lexer": "ipython2",
   "version": "2.7.17"
  }
 },
 "nbformat": 4,
 "nbformat_minor": 2
}
